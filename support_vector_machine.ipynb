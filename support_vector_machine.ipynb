{
  "nbformat": 4,
  "nbformat_minor": 0,
  "metadata": {
    "colab": {
      "provenance": [],
      "authorship_tag": "ABX9TyNhBPdbHUs0WXnW4ufs2BrK",
      "include_colab_link": true
    },
    "kernelspec": {
      "name": "python3",
      "display_name": "Python 3"
    },
    "language_info": {
      "name": "python"
    }
  },
  "cells": [
    {
      "cell_type": "markdown",
      "metadata": {
        "id": "view-in-github",
        "colab_type": "text"
      },
      "source": [
        "<a href=\"https://colab.research.google.com/github/Riyathakur0611/Fake-Profile-Detection/blob/main/support_vector_machine.ipynb\" target=\"_parent\"><img src=\"https://colab.research.google.com/assets/colab-badge.svg\" alt=\"Open In Colab\"/></a>"
      ]
    },
    {
      "cell_type": "code",
      "execution_count": null,
      "metadata": {
        "id": "pnNq_2F3jBw2"
      },
      "outputs": [],
      "source": [
        "import sys\n",
        "import csv\n",
        "import datetime\n",
        "import numpy as np\n",
        "import pandas as pd\n",
        "import matplotlib.pyplot as plt\n",
        "from datetime import datetime\n",
        "import gender_guesser.detector as gender\n",
        "from sklearn.impute import SimpleImputer\n",
        "from sklearn.model_selection import train_test_split, cross_val_score\n",
        "from sklearn import metrics\n",
        "from sklearn import preprocessing\n",
        "from sklearn.linear_model import LinearRegression\n",
        "from sklearn.svm import SVC\n",
        "from sklearn.metrics import roc_curve, auc\n",
        "from sklearn.model_selection import GridSearchCV\n",
        "from sklearn.metrics import accuracy_score\n",
        "from sklearn.model_selection import learning_curve\n",
        "from sklearn.metrics import classification_report\n",
        "from sklearn.metrics import confusion_matrix\n",
        "from sexmachine.mapping import map_name\n",
        "%matplotlib inline\n"
      ]
    },
    {
      "cell_type": "code",
      "source": [
        "pip install sexmachine"
      ],
      "metadata": {
        "colab": {
          "base_uri": "https://localhost:8080/"
        },
        "id": "1HGalcb7jQsX",
        "outputId": "cd2632e4-b94d-42e7-870a-8130c2380894"
      },
      "execution_count": null,
      "outputs": [
        {
          "output_type": "stream",
          "name": "stdout",
          "text": [
            "Collecting sexmachine\n",
            "  Downloading SexMachine-0.1.1.tar.gz (336 kB)\n",
            "\u001b[?25l     \u001b[90m━━━━━━━━━━━━━━━━━━━━━━━━━━━━━━━━━━━━━━━━\u001b[0m \u001b[32m0.0/336.4 kB\u001b[0m \u001b[31m?\u001b[0m eta \u001b[36m-:--:--\u001b[0m\r\u001b[2K     \u001b[91m━━━━━━━━━━━━━━━━━━━━━━━━━━━━━━━━━━━━━━\u001b[0m\u001b[91m╸\u001b[0m\u001b[90m━\u001b[0m \u001b[32m327.7/336.4 kB\u001b[0m \u001b[31m11.9 MB/s\u001b[0m eta \u001b[36m0:00:01\u001b[0m\r\u001b[2K     \u001b[90m━━━━━━━━━━━━━━━━━━━━━━━━━━━━━━━━━━━━━━━━\u001b[0m \u001b[32m336.4/336.4 kB\u001b[0m \u001b[31m7.9 MB/s\u001b[0m eta \u001b[36m0:00:00\u001b[0m\n",
            "\u001b[?25h  Preparing metadata (setup.py) ... \u001b[?25l\u001b[?25hdone\n",
            "Building wheels for collected packages: sexmachine\n",
            "  Building wheel for sexmachine (setup.py) ... \u001b[?25l\u001b[?25hdone\n",
            "  Created wheel for sexmachine: filename=SexMachine-0.1.1-py3-none-any.whl size=379441 sha256=80a7a1b3579f93ff09f1f140a72998221e5fa126e647a9a6d66c5c3f7ea3c7de\n",
            "  Stored in directory: /root/.cache/pip/wheels/1d/c5/29/23f0676f2b8fc6a8d678ac911993de922ea7dc64ccb187619d\n",
            "Successfully built sexmachine\n",
            "Installing collected packages: sexmachine\n",
            "Successfully installed sexmachine-0.1.1\n"
          ]
        }
      ]
    },
    {
      "cell_type": "code",
      "source": [
        "pip install gender-guesser"
      ],
      "metadata": {
        "colab": {
          "base_uri": "https://localhost:8080/"
        },
        "id": "LjN3ARMBIYPq",
        "outputId": "b39ab58a-9cfa-4569-8e9c-8a1b3b139ba3"
      },
      "execution_count": null,
      "outputs": [
        {
          "output_type": "stream",
          "name": "stdout",
          "text": [
            "Collecting gender-guesser\n",
            "  Downloading gender_guesser-0.4.0-py2.py3-none-any.whl.metadata (3.0 kB)\n",
            "Downloading gender_guesser-0.4.0-py2.py3-none-any.whl (379 kB)\n",
            "\u001b[?25l   \u001b[90m━━━━━━━━━━━━━━━━━━━━━━━━━━━━━━━━━━━━━━━━\u001b[0m \u001b[32m0.0/379.3 kB\u001b[0m \u001b[31m?\u001b[0m eta \u001b[36m-:--:--\u001b[0m\r\u001b[2K   \u001b[91m━━━━━━━━━━━━━━━━━━━━━━━━━━━━━━━━━━━━━━━\u001b[0m\u001b[91m╸\u001b[0m \u001b[32m378.9/379.3 kB\u001b[0m \u001b[31m11.5 MB/s\u001b[0m eta \u001b[36m0:00:01\u001b[0m\r\u001b[2K   \u001b[90m━━━━━━━━━━━━━━━━━━━━━━━━━━━━━━━━━━━━━━━━\u001b[0m \u001b[32m379.3/379.3 kB\u001b[0m \u001b[31m7.4 MB/s\u001b[0m eta \u001b[36m0:00:00\u001b[0m\n",
            "\u001b[?25hInstalling collected packages: gender-guesser\n",
            "Successfully installed gender-guesser-0.4.0\n"
          ]
        }
      ]
    },
    {
      "cell_type": "code",
      "source": [
        "!pip install --upgrade sexmachine"
      ],
      "metadata": {
        "colab": {
          "base_uri": "https://localhost:8080/"
        },
        "id": "wIfx1gnpyM2-",
        "outputId": "961d8e17-e7b8-4ccf-ac88-972ab494293a"
      },
      "execution_count": null,
      "outputs": [
        {
          "output_type": "stream",
          "name": "stdout",
          "text": [
            "Requirement already satisfied: sexmachine in /usr/local/lib/python3.10/dist-packages (0.1.1)\n"
          ]
        }
      ]
    },
    {
      "cell_type": "code",
      "source": [
        "mappings = ((256, [\"<A/>\"]),\n",
        "            (257, [\"<a/>\"]),\n",
        "            (258, [\"<Â>\"]),\n",
        "            (259, [\"<â>\"]),\n",
        "            (260, [\"<A,>\"]),\n",
        "            (261, [\"<a,>\"]),\n",
        "            (262, [\"<C´>\"]),\n",
        "            (263, [\"<c´>\"]),\n",
        "            (268, [\"<C^>\", \"<CH>\"]),\n",
        "            (269, [\"<c^>\", \"<ch>\"]),\n",
        "            (271, [\"<d´>\"]),\n",
        "            (272, [\"<Ð>\", \"<DJ>\"]),\n",
        "            (273, [\"<ð>\", \"<dj>\"]),\n",
        "            (274, [\"<E/>\"]),\n",
        "            (275, [\"<e/>\"]),\n",
        "            (278, [\"<E°>\"]),\n",
        "            (279, [\"<e°>\"]),\n",
        "            (280, [\"<E,>\"]),\n",
        "            (281, [\"<e,>\"]),\n",
        "            (282, [\"<Ê>\"]),\n",
        "            (283, [\"<ê>\"]),\n",
        "            (287, [\"<g^>\"]),\n",
        "            (290, [\"<G,>\"]),\n",
        "            (286, [\"<G^>\"]),\n",
        "            (291, [\"<g´>\"]),\n",
        "            (298, [\"<I/>\"]),\n",
        "            (299, [\"<i/>\"]),\n",
        "            (304, [\"<I°>\"]),\n",
        "            (305, [\"<i>\"]),\n",
        "            (306, [\"<IJ>\"]),\n",
        "            (307, [\"<ij>\"]),\n",
        "            (310, [\"<K,>\"]),\n",
        "            (311, [\"<k,>\"]),\n",
        "            (315, [\"<L,>\"]),\n",
        "            (316, [\"<l,>\"]),\n",
        "            (317, [\"<L´>\"]),\n",
        "            (318, [\"<l´>\"]),\n",
        "            (321, [\"<L/>\"]),\n",
        "            (322, [\"<l/>\"]),\n",
        "            (325, [\"<N,>\"]),\n",
        "            (326, [\"<n,>\"]),\n",
        "            (327, [\"<N^>\"]),\n",
        "            (328, [\"<n^>\"]),\n",
        "            (336, [\"<Ö>\"]),\n",
        "            (337, [\"<ö>\"]),\n",
        "            (338, [\"<OE>\"]),\n",
        "            (339, [\"<oe>\"]),\n",
        "            (344, [\"<R^>\"]),\n",
        "            (345, [\"<r^>\"]),\n",
        "            (350, [\"<S,>\"]),\n",
        "            (351, [\"<s,>\"]),\n",
        "            (352, [\"<S^>\", \"<SCH>\", \"<SH>\"]),\n",
        "            (353, [\"<s^>\", \"<sch>\", \"<sh>\"]),\n",
        "            (354, [\"<T,>\"]),\n",
        "            (355, [\"<t,>\"]),\n",
        "            (357, [\"<t´>\"]),\n",
        "            (362, [\"<U/>\"]),\n",
        "            (363, [\"<u/>\"]),\n",
        "            (366, [\"<U°>\"]),\n",
        "            (367, [\"<u°>\"]),\n",
        "            (370, [\"<U,>\"]),\n",
        "            (371, [\"<u,>\"]),\n",
        "            (379, [\"<Z°>\"]),\n",
        "            (380, [\"<z°>\"]),\n",
        "            (381, [\"<Z^>\"]),\n",
        "            (382, [\"<z^>\"]),\n",
        "            (7838, [\"<ß>\"]),\n",
        "            )\n",
        "\n",
        "\n",
        "def map_name(u):\n",
        "    for code, patterns in mappings:\n",
        "        for pattern in patterns:\n",
        "            u = u.replace(pattern.decode(\"utf-8\"), unichr(code))\n",
        "    return u\n"
      ],
      "metadata": {
        "id": "gAFCvgZbGqH6"
      },
      "execution_count": null,
      "outputs": []
    },
    {
      "cell_type": "code",
      "source": [
        "def read_datasets():\n",
        "    \"\"\" Reads users profile from csv files \"\"\"\n",
        "    genuine_users = pd.read_csv(\"/content/users.csv\")\n",
        "    fake_users = pd.read_csv(\"/content/fusers.csv\")\n",
        "    # print genuine_users.columns\n",
        "    # print genuine_users.describe()\n",
        "    #print fake_users.describe()\n",
        "    x=pd.concat([genuine_users,fake_users])\n",
        "    y=len(fake_users)*[0] + len(genuine_users)*[1]\n",
        "    return x,y\n"
      ],
      "metadata": {
        "id": "rFFC4FnujUed"
      },
      "execution_count": null,
      "outputs": []
    },
    {
      "cell_type": "code",
      "source": [
        "print(x)"
      ],
      "metadata": {
        "colab": {
          "base_uri": "https://localhost:8080/"
        },
        "id": "gf8F5RSW0OO1",
        "outputId": "fb149fe1-24d5-4ac0-f295-c1a0bc1711e2"
      },
      "execution_count": null,
      "outputs": [
        {
          "output_type": "stream",
          "name": "stdout",
          "text": [
            "              id              name      screen_name  statuses_count  \\\n",
            "0        3610511  Davide Dellacasa           braddd           20370   \n",
            "1        5656162    Simone Economo            eKoeS            3131   \n",
            "2        5682702            tacone          tacone_            4024   \n",
            "3        6067292          alesaura         alesstar           40586   \n",
            "4        6015122            Angelo       PerDiletto            2016   \n",
            "...          ...               ...              ...             ...   \n",
            "1332  1391497074       Verda Marks      VerdaMarks1               1   \n",
            "1333  1391544607   Danial Campbell  DanialCampbell2               0   \n",
            "1334  1391622127      Maudie Meyer     MaudieMeyer1               2   \n",
            "1335  1391832212   Harriett Harvey  HarriettHarvey9               2   \n",
            "1336  1391998039   Gillian Wheeler  GillianWheeler3               0   \n",
            "\n",
            "      followers_count  friends_count  favourites_count  listed_count  \\\n",
            "0                5470           2385               145            52   \n",
            "1                 506            381                 9            40   \n",
            "2                 264             87               323            16   \n",
            "3                 640            622              1118            32   \n",
            "4                  62             64                13             0   \n",
            "...               ...            ...               ...           ...   \n",
            "1332                0             17                 0             0   \n",
            "1333                1             17                 0             0   \n",
            "1334                0             15                 0             0   \n",
            "1335                0             16                 0             0   \n",
            "1336                0             17                 0             0   \n",
            "\n",
            "                          created_at                                url  ...  \\\n",
            "0     Fri Apr 06 10:58:22 +0000 2007           http://braddd.tumblr.com  ...   \n",
            "1     Mon Apr 30 15:08:42 +0000 2007         http://www.lineheight.net/  ...   \n",
            "2     Tue May 01 11:53:40 +0000 2007               http://t.co/LKrl1dZE  ...   \n",
            "3     Tue May 15 16:55:16 +0000 2007     http://alesstar.wordpress.com/  ...   \n",
            "4     Sun May 13 19:52:00 +0000 2007  http://www.flickr.com/per_diletto  ...   \n",
            "...                              ...                                ...  ...   \n",
            "1332  Tue Apr 30 08:23:57 +0000 2013                                NaN  ...   \n",
            "1333  Tue Apr 30 08:34:49 +0000 2013                                NaN  ...   \n",
            "1334  Tue Apr 30 09:21:12 +0000 2013                                NaN  ...   \n",
            "1335  Tue Apr 30 11:25:11 +0000 2013                                NaN  ...   \n",
            "1336  Tue Apr 30 12:47:51 +0000 2013                                NaN  ...   \n",
            "\n",
            "                           profile_background_image_url  \\\n",
            "0     http://a0.twimg.com/profile_background_images/...   \n",
            "1       http://a0.twimg.com/images/themes/theme1/bg.png   \n",
            "2     http://a0.twimg.com/profile_background_images/...   \n",
            "3       http://a0.twimg.com/images/themes/theme4/bg.gif   \n",
            "4      http://a0.twimg.com/images/themes/theme18/bg.gif   \n",
            "...                                                 ...   \n",
            "1332    http://a0.twimg.com/images/themes/theme1/bg.png   \n",
            "1333    http://a0.twimg.com/images/themes/theme1/bg.png   \n",
            "1334    http://a0.twimg.com/images/themes/theme1/bg.png   \n",
            "1335    http://a0.twimg.com/images/themes/theme1/bg.png   \n",
            "1336    http://a0.twimg.com/images/themes/theme1/bg.png   \n",
            "\n",
            "     profile_background_color profile_link_color  utc_offset  protected  \\\n",
            "0                      BADFCD             FF0000      3600.0        NaN   \n",
            "1                      C0DEED             0084B4      3600.0        NaN   \n",
            "2                      1A1B1F             2FC2EF      3600.0        NaN   \n",
            "3                      0099B9             0099B9      3600.0        NaN   \n",
            "4                      ACDED6             038543      3600.0        NaN   \n",
            "...                       ...                ...         ...        ...   \n",
            "1332                   C0DEED             0084B4         NaN        NaN   \n",
            "1333                   C0DEED             0084B4         NaN        NaN   \n",
            "1334                   C0DEED             0084B4         NaN        NaN   \n",
            "1335                   C0DEED             0084B4         NaN        NaN   \n",
            "1336                   C0DEED             0084B4         NaN        NaN   \n",
            "\n",
            "      verified                                        description  \\\n",
            "0          NaN  Founder of http://www.screenweek.it & http://w...   \n",
            "1          NaN  BSc degree (cum laude) in Computer Engineering...   \n",
            "2          NaN                             Cogito ergo bestemmio.   \n",
            "3          NaN               Se la vita ti dà sarde, scapocciale!   \n",
            "4          NaN                                     Je me souviens   \n",
            "...        ...                                                ...   \n",
            "1332       NaN  I have been in business onlin and offline for ...   \n",
            "1333       NaN                                                NaN   \n",
            "1334       NaN                                                NaN   \n",
            "1335       NaN                                                NaN   \n",
            "1336       NaN  Hello!im a BELIEBER! IM A HUGE FAN OF JUSTIN B...   \n",
            "\n",
            "                  updated  dataset lang_code  \n",
            "0     2015-02-14 10:54:49      E13         5  \n",
            "1     2015-02-14 10:54:49      E13         1  \n",
            "2     2015-02-14 10:54:49      E13         1  \n",
            "3     2015-02-14 10:54:49      E13         1  \n",
            "4     2015-02-14 10:54:49      E13         5  \n",
            "...                   ...      ...       ...  \n",
            "1332  2015-02-14 10:40:01      INT         1  \n",
            "1333  2015-02-14 10:40:01      INT         1  \n",
            "1334  2015-02-14 10:40:01      INT         1  \n",
            "1335  2015-02-14 10:40:01      INT         1  \n",
            "1336  2015-02-14 10:40:01      INT         1  \n",
            "\n",
            "[2818 rows x 35 columns]\n"
          ]
        }
      ]
    },
    {
      "cell_type": "code",
      "source": [
        "print(x.columns)"
      ],
      "metadata": {
        "colab": {
          "base_uri": "https://localhost:8080/"
        },
        "id": "1OQYdCQ8K756",
        "outputId": "7e322607-a725-4a4d-e499-76857d554c13"
      },
      "execution_count": null,
      "outputs": [
        {
          "output_type": "stream",
          "name": "stdout",
          "text": [
            "Index(['statuses_count', 'followers_count', 'friends_count',\n",
            "       'favourites_count', 'listed_count', 'sex_code', 'lang_code'],\n",
            "      dtype='object')\n"
          ]
        }
      ]
    },
    {
      "cell_type": "markdown",
      "source": [],
      "metadata": {
        "id": "rvYAqbqZK5S2"
      }
    },
    {
      "cell_type": "code",
      "source": [
        "import numpy as np\n",
        "import pandas as pd\n",
        "import gender_guesser.detector as gender\n",
        "\n",
        "# Predict sex function using gender-guesser\n",
        "def predict_sex(name):\n",
        "    sex_predictor = gender.Detector(case_sensitive=False)\n",
        "    first_name = name.str.split(' ').str.get(0)  # Split and get the first name\n",
        "    sex = first_name.apply(sex_predictor.get_gender)\n",
        "\n",
        "    # Mapping genders to numeric codes\n",
        "    sex_dict = {\n",
        "        'female': -2,\n",
        "        'mostly_female': -1,\n",
        "        'unknown': 0,\n",
        "        'mostly_male': 1,\n",
        "        'male': 2,\n",
        "        'andy': 0  # androgynous\n",
        "    }\n",
        "    return sex.map(sex_dict)\n",
        "\n",
        "# Feature extraction function\n",
        "def extract_features(x):\n",
        "    # Check if 'lang_code' already exists\n",
        "    if 'lang_code' not in x.columns:\n",
        "        # If not, create 'lang_code' from 'lang'\n",
        "        lang_list = list(enumerate(np.unique(x['lang'])))\n",
        "        lang_dict = {name: i for i, name in lang_list}\n",
        "        x['lang_code'] = x['lang'].map(lambda lang: lang_dict[lang]).astype(int)\n",
        "\n",
        "    # Process the 'name' column to get 'sex_code'\n",
        "    if 'sex_code' not in x.columns:\n",
        "        x['sex_code'] = predict_sex(x['name'])\n",
        "\n",
        "    # Select the features to use\n",
        "    feature_columns_to_use = ['statuses_count', 'followers_count', 'friends_count',\n",
        "                              'favourites_count', 'listed_count', 'sex_code', 'lang_code']\n",
        "\n",
        "    # Subset the DataFrame to these columns\n",
        "    x = x.loc[:, feature_columns_to_use]\n",
        "\n",
        "    return x\n",
        "\n",
        "# Example usage\n",
        "print(\"extracting features.....\\n\")\n",
        "x = extract_features(x)\n",
        "print(x.columns)\n",
        "print(x.describe())\n"
      ],
      "metadata": {
        "colab": {
          "base_uri": "https://localhost:8080/"
        },
        "id": "ryfc4pQAKWqu",
        "outputId": "9805c572-268c-4548-d49e-9e91ed539eee"
      },
      "execution_count": null,
      "outputs": [
        {
          "output_type": "stream",
          "name": "stdout",
          "text": [
            "extracting features.....\n",
            "\n",
            "Index(['statuses_count', 'followers_count', 'friends_count',\n",
            "       'favourites_count', 'listed_count', 'sex_code', 'lang_code'],\n",
            "      dtype='object')\n",
            "       statuses_count  followers_count  friends_count  favourites_count  \\\n",
            "count     2818.000000      2818.000000    2818.000000       2818.000000   \n",
            "mean      1672.198368       371.105039     395.363023        234.541164   \n",
            "std       4884.669157      8022.631339     465.694322       1445.847248   \n",
            "min          0.000000         0.000000       0.000000          0.000000   \n",
            "25%         35.000000        17.000000     168.000000          0.000000   \n",
            "50%         77.000000        26.000000     306.000000          0.000000   \n",
            "75%       1087.750000       111.000000     519.000000         37.000000   \n",
            "max      79876.000000    408372.000000   12773.000000      44349.000000   \n",
            "\n",
            "       listed_count     sex_code    lang_code  \n",
            "count   2818.000000  2818.000000  2818.000000  \n",
            "mean       2.818666    -0.191270     2.851313  \n",
            "std       23.480430     1.685612     1.992950  \n",
            "min        0.000000    -2.000000     0.000000  \n",
            "25%        0.000000    -2.000000     1.000000  \n",
            "50%        0.000000     0.000000     1.000000  \n",
            "75%        1.000000     2.000000     5.000000  \n",
            "max      744.000000     2.000000     7.000000  \n"
          ]
        }
      ]
    },
    {
      "cell_type": "code",
      "source": [
        "def plot_confusion_matrix(cm, title='Confusion matrix', cmap=plt.cm.Blues):\n",
        "    target_names=['Fake','Genuine']\n",
        "    plt.imshow(cm, interpolation='nearest', cmap=cmap)\n",
        "    plt.title(title)\n",
        "    plt.colorbar()\n",
        "    tick_marks = np.arange(len(target_names))\n",
        "    plt.xticks(tick_marks, target_names, rotation=45)\n",
        "    plt.yticks(tick_marks, target_names)\n",
        "    plt.tight_layout()\n",
        "    plt.ylabel('True label')\n",
        "    plt.xlabel('Predicted label')\n",
        "    plt.show()\n"
      ],
      "metadata": {
        "id": "Ve8tF4Xyl2GE"
      },
      "execution_count": null,
      "outputs": []
    },
    {
      "cell_type": "code",
      "source": [
        "def plot_roc_curve(y_test, y_pred):\n",
        "    false_positive_rate, true_positive_rate, thresholds = roc_curve(y_test, y_pred)\n",
        "    print(\"False Positive rate: \",false_positive_rate)\n",
        "    print(\"True Positive rate: \",true_positive_rate)\n",
        "\n",
        "    roc_auc = auc(false_positive_rate, true_positive_rate)\n",
        "\n",
        "    plt.title('Receiver Operating Characteristic')\n",
        "    plt.plot(false_positive_rate, true_positive_rate, 'b',\n",
        "    label='AUC = %0.2f'% roc_auc)\n",
        "    plt.legend(loc='lower right')\n",
        "    plt.plot([0,1],[0,1],'r--')\n",
        "    plt.xlim([-0.1,1.2])\n",
        "    plt.ylim([-0.1,1.2])\n",
        "    plt.ylabel('True Positive Rate')\n",
        "    plt.xlabel('False Positive Rate')\n",
        "    plt.show()\n"
      ],
      "metadata": {
        "id": "cajmniLCl7sQ"
      },
      "execution_count": null,
      "outputs": []
    },
    {
      "cell_type": "code",
      "source": [
        "def train(X_train,y_train,X_test):\n",
        "    \"\"\" Trains and predicts dataset with a SVM classifier \"\"\"\n",
        "    # Scaling features\n",
        "    X_train=preprocessing.scale(X_train)\n",
        "    X_test=preprocessing.scale(X_test)\n",
        "\n",
        "    Cs = 10.0 ** np.arange(-2,3,.5)\n",
        "    gammas = 10.0 ** np.arange(-2,3,.5)\n",
        "    param = [{'gamma': gammas, 'C': Cs}]\n",
        "    cvk = StratifiedKFold(y_train,n_folds=5)\n",
        "    classifier = SVC()\n",
        "    clf = GridSearchCV(classifier,param_grid=param,cv=cvk)\n",
        "    clf.fit(X_train,y_train)\n",
        "    print(\"The best classifier is: \",clf.best_estimator_)\n",
        "    clf.best_estimator_.fit(X_train,y_train)\n",
        "    # Estimate score\n",
        "    scores = cross_validation.cross_val_score(clf.best_estimator_, X_train,y_train, cv=5)\n",
        "    print(scores)\n",
        "    print('Estimated score: %0.5f (+/- %0.5f)' % (scores.mean(), scores.std() / 2))\n",
        "    title =('Learning Curves (SVM, rbf kernel)' %clf.best_estimator_.gamma)\n",
        "    plot_learning_curve(clf.best_estimator_, title, X_train, y_train, cv=5)\n",
        "    plt.show()\n",
        "    # Predict class\n",
        "    y_pred = clf.best_estimator_.predict(X_test)\n",
        "    return y_test,y_pred\n"
      ],
      "metadata": {
        "id": "Fnh8I2xcmIYO"
      },
      "execution_count": null,
      "outputs": []
    },
    {
      "cell_type": "code",
      "source": [
        "print(\"reading datasets.....\\n\")\n",
        "x,y=read_datasets()\n"
      ],
      "metadata": {
        "colab": {
          "base_uri": "https://localhost:8080/"
        },
        "id": "cbD6wTwuma0B",
        "outputId": "7834a2c8-4af8-49c2-915d-2f3c9e412c0d"
      },
      "execution_count": null,
      "outputs": [
        {
          "output_type": "stream",
          "name": "stdout",
          "text": [
            "reading datasets.....\n",
            "\n"
          ]
        }
      ]
    },
    {
      "cell_type": "code",
      "source": [
        "print(\"spliting datasets in train and test dataset...\\n\")\n",
        "x_train,x_test,y_train,y_test = train_test_split(x, y, test_size=0.20, random_state=44)\n"
      ],
      "metadata": {
        "colab": {
          "base_uri": "https://localhost:8080/"
        },
        "id": "5cG2bJb2QmPG",
        "outputId": "ce1ac3fa-4711-47a0-9bb8-f98fa189086a"
      },
      "execution_count": null,
      "outputs": [
        {
          "output_type": "stream",
          "name": "stdout",
          "text": [
            "spliting datasets in train and test dataset...\n",
            "\n"
          ]
        }
      ]
    },
    {
      "cell_type": "code",
      "source": [
        "from sklearn.model_selection import train_test_split\n",
        "from sklearn.ensemble import RandomForestClassifier\n",
        "from sklearn.metrics import accuracy_score\n",
        "\n",
        "def train(x_train, y_train, x_test):\n",
        "    # Initialize the model (e.g., RandomForestClassifier)\n",
        "    model = RandomForestClassifier()\n",
        "\n",
        "    # Fit the model\n",
        "    model.fit(x_train, y_train)\n",
        "\n",
        "    # Make predictions\n",
        "    y_pred = model.predict(x_test)\n",
        "\n",
        "    return y_test, y_pred\n",
        "\n",
        "# Example usage\n",
        "print(\"training datasets.......\\n\")\n",
        "x_train, x_test, y_train, y_test = train_test_split(x, y, test_size=0.2, random_state=42)\n",
        "y_test, y_pred = train(x_train, y_train, x_test)\n",
        "\n",
        "# Print results\n",
        "print(f\"Predictions: {y_pred}\")\n",
        "print(f\"Actual: {y_test}\")\n",
        "print(f\"Accuracy: {accuracy_score(y_test, y_pred)}\")"
      ],
      "metadata": {
        "colab": {
          "base_uri": "https://localhost:8080/"
        },
        "id": "Uessmn4cMKAK",
        "outputId": "45cf6eee-3194-4a2e-a66e-779215d6f4d3"
      },
      "execution_count": null,
      "outputs": [
        {
          "output_type": "stream",
          "name": "stdout",
          "text": [
            "training datasets.......\n",
            "\n",
            "Predictions: [1 1 0 0 0 0 0 1 1 1 0 1 1 0 0 0 0 1 0 0 0 1 0 1 1 0 0 1 0 1 0 1 1 0 0 0 1\n",
            " 0 1 0 0 1 0 1 1 0 0 1 0 1 1 0 1 0 1 1 0 0 1 0 1 0 1 1 0 0 1 1 0 1 1 0 1 0\n",
            " 1 0 0 1 0 0 1 1 0 0 1 0 0 1 0 1 0 1 0 0 0 1 1 1 0 1 0 0 1 0 0 1 1 1 1 0 1\n",
            " 1 0 0 0 0 1 0 1 0 1 0 1 1 0 1 1 1 0 1 1 0 0 0 0 0 0 0 1 0 0 0 0 0 0 0 1 0\n",
            " 0 1 1 1 0 0 0 1 0 0 0 0 0 0 1 0 0 1 0 1 0 0 0 0 0 1 0 0 1 0 0 0 0 0 0 0 0\n",
            " 1 1 0 1 1 1 1 0 1 0 1 0 1 1 1 0 0 1 0 0 0 0 1 0 0 1 1 0 0 0 0 1 1 1 0 0 1\n",
            " 0 1 0 0 0 0 0 1 0 1 0 0 1 0 0 0 0 1 0 1 1 0 1 1 1 1 1 0 0 0 1 0 0 1 1 1 1\n",
            " 0 0 1 0 1 0 0 0 1 1 0 1 1 1 0 1 1 1 1 1 0 1 0 1 0 0 0 1 0 0 0 0 0 0 0 0 0\n",
            " 1 0 1 0 0 0 1 0 1 1 0 1 1 0 0 1 0 1 0 1 1 1 1 0 1 0 1 1 1 0 1 1 0 0 0 1 0\n",
            " 0 0 0 0 1 1 1 1 1 0 0 1 0 1 1 0 1 1 0 1 0 1 0 1 1 0 0 1 1 1 0 0 1 1 0 0 0\n",
            " 0 0 1 1 1 1 1 0 0 1 0 1 1 0 0 0 1 1 0 0 0 0 1 0 1 1 0 1 0 1 0 0 0 0 0 0 0\n",
            " 0 1 0 0 1 1 0 0 0 1 1 0 1 1 0 0 1 1 1 0 0 0 1 0 0 0 1 1 1 1 1 1 0 0 1 0 0\n",
            " 0 1 1 0 0 0 1 1 0 0 0 0 0 1 0 1 1 0 0 0 1 1 1 0 1 0 1 1 0 0 1 1 0 0 0 1 1\n",
            " 1 1 0 0 1 1 1 1 1 1 1 0 0 1 1 1 0 0 0 0 0 1 0 1 1 0 0 0 0 0 0 0 0 1 0 1 1\n",
            " 1 0 1 1 1 0 0 1 1 0 1 0 1 0 1 0 0 1 0 1 1 1 0 1 1 1 1 1 1 1 0 0 1 0 0 0 0\n",
            " 0 1 0 1 0 1 0 0 1]\n",
            "Actual: [1, 1, 1, 0, 0, 0, 0, 1, 1, 1, 0, 1, 1, 1, 0, 0, 0, 1, 0, 0, 0, 1, 0, 1, 1, 0, 0, 1, 0, 1, 0, 1, 1, 1, 0, 1, 1, 0, 1, 0, 0, 1, 0, 1, 1, 0, 0, 1, 1, 1, 1, 0, 1, 1, 1, 1, 1, 0, 1, 0, 1, 0, 1, 1, 1, 0, 1, 1, 0, 1, 1, 1, 1, 0, 1, 0, 1, 1, 0, 0, 1, 1, 0, 0, 1, 0, 0, 1, 0, 1, 0, 1, 0, 0, 1, 1, 1, 0, 0, 1, 0, 0, 1, 0, 0, 1, 1, 1, 1, 0, 1, 1, 0, 0, 0, 0, 1, 1, 1, 0, 1, 1, 1, 1, 0, 1, 1, 1, 0, 1, 1, 0, 0, 0, 0, 0, 1, 0, 1, 0, 0, 0, 0, 0, 0, 0, 1, 0, 0, 1, 1, 1, 0, 0, 0, 1, 1, 0, 0, 0, 1, 0, 1, 0, 0, 1, 0, 1, 0, 0, 0, 0, 0, 1, 0, 1, 1, 0, 0, 0, 0, 0, 0, 0, 0, 1, 1, 0, 1, 1, 1, 1, 1, 1, 0, 1, 0, 1, 1, 1, 0, 0, 1, 0, 0, 1, 0, 1, 0, 0, 1, 1, 0, 0, 0, 0, 1, 1, 1, 0, 0, 1, 0, 1, 0, 0, 0, 0, 0, 1, 0, 1, 0, 0, 1, 1, 0, 0, 0, 1, 0, 1, 1, 0, 1, 1, 1, 1, 1, 0, 0, 0, 1, 0, 0, 1, 1, 1, 1, 0, 0, 1, 0, 0, 0, 0, 0, 1, 1, 1, 1, 1, 1, 0, 1, 1, 1, 1, 1, 0, 1, 0, 1, 0, 0, 0, 1, 1, 0, 0, 1, 0, 0, 0, 0, 0, 1, 0, 1, 0, 0, 0, 1, 0, 1, 1, 0, 1, 1, 0, 0, 1, 0, 1, 0, 1, 1, 1, 1, 0, 1, 0, 1, 1, 1, 0, 1, 1, 0, 0, 0, 1, 0, 0, 0, 1, 0, 1, 1, 1, 1, 1, 0, 0, 1, 0, 1, 1, 0, 1, 1, 0, 1, 0, 1, 0, 1, 1, 0, 0, 1, 1, 1, 0, 0, 1, 1, 0, 0, 0, 0, 0, 1, 1, 1, 1, 1, 0, 1, 1, 0, 1, 1, 0, 0, 0, 1, 1, 1, 0, 0, 0, 1, 1, 1, 1, 0, 1, 0, 1, 0, 1, 0, 0, 1, 0, 0, 0, 1, 0, 0, 1, 1, 0, 0, 0, 1, 1, 0, 1, 1, 0, 0, 1, 1, 1, 0, 0, 0, 1, 0, 0, 0, 1, 1, 1, 1, 1, 1, 0, 0, 0, 0, 0, 0, 1, 1, 0, 0, 0, 1, 1, 1, 1, 0, 1, 0, 1, 0, 1, 1, 0, 0, 0, 1, 1, 1, 0, 1, 0, 1, 1, 1, 0, 1, 1, 0, 0, 1, 1, 1, 1, 1, 0, 0, 1, 1, 1, 1, 1, 1, 1, 0, 0, 1, 1, 1, 0, 0, 0, 0, 0, 1, 0, 1, 1, 0, 0, 0, 0, 0, 0, 0, 0, 1, 0, 1, 1, 1, 1, 1, 1, 1, 0, 0, 1, 1, 0, 1, 0, 1, 0, 1, 1, 0, 1, 1, 1, 1, 1, 0, 1, 1, 1, 1, 1, 1, 1, 0, 1, 1, 0, 0, 0, 0, 0, 1, 0, 1, 0, 1, 1, 0, 1]\n",
            "Accuracy: 0.925531914893617\n"
          ]
        }
      ]
    },
    {
      "cell_type": "code",
      "source": [
        "print(\"training datasets.......\\n\")\n",
        "y_test,y_pred = train(x_train,y_train,x_test)\n"
      ],
      "metadata": {
        "colab": {
          "base_uri": "https://localhost:8080/"
        },
        "id": "bLNTMtV6yqYE",
        "outputId": "216412a2-8a19-4c1f-c107-ffabcf5bb332"
      },
      "execution_count": null,
      "outputs": [
        {
          "output_type": "stream",
          "name": "stdout",
          "text": [
            "training datasets.......\n",
            "\n"
          ]
        }
      ]
    },
    {
      "cell_type": "code",
      "source": [
        "print('Classification Accuracy on Test dataset: ' ,accuracy_score(y_test, y_pred))\n"
      ],
      "metadata": {
        "colab": {
          "base_uri": "https://localhost:8080/"
        },
        "id": "tOvMYjPDyy3G",
        "outputId": "1d1625fb-464d-43cc-c78d-75c6b2b24d21"
      },
      "execution_count": null,
      "outputs": [
        {
          "output_type": "stream",
          "name": "stdout",
          "text": [
            "Classification Accuracy on Test dataset:  0.925531914893617\n"
          ]
        }
      ]
    },
    {
      "cell_type": "code",
      "source": [
        "cm=confusion_matrix(y_test, y_pred)\n",
        "print('Confusion matrix, without normalization')\n",
        "print(cm)\n",
        "plot_confusion_matrix(cm)\n"
      ],
      "metadata": {
        "colab": {
          "base_uri": "https://localhost:8080/",
          "height": 558
        },
        "id": "ye4rJr6T2TVC",
        "outputId": "e31918f0-d7dd-4e4f-c320-9f08485a4f7d"
      },
      "execution_count": null,
      "outputs": [
        {
          "output_type": "stream",
          "name": "stdout",
          "text": [
            "Confusion matrix, without normalization\n",
            "[[266   4]\n",
            " [ 38 256]]\n"
          ]
        },
        {
          "output_type": "display_data",
          "data": {
            "text/plain": [
              "<Figure size 640x480 with 2 Axes>"
            ],
            "image/png": "[encoded data removed]"
          },
          "metadata": {}
        }
      ]
    },
    {
      "cell_type": "code",
      "source": [
        "cm_normalized = cm.astype('float') / cm.sum(axis=1)[:, np.newaxis]\n",
        "print('Normalized confusion matrix')\n",
        "print(cm_normalized)\n",
        "plot_confusion_matrix(cm_normalized, title='Normalized confusion matrix')"
      ],
      "metadata": {
        "colab": {
          "base_uri": "https://localhost:8080/",
          "height": 558
        },
        "id": "Da4X4FQX2aFJ",
        "outputId": "f1f15088-32f8-4be2-d2ab-0427d7cae89d"
      },
      "execution_count": null,
      "outputs": [
        {
          "output_type": "stream",
          "name": "stdout",
          "text": [
            "Normalized confusion matrix\n",
            "[[0.98518519 0.01481481]\n",
            " [0.1292517  0.8707483 ]]\n"
          ]
        },
        {
          "output_type": "display_data",
          "data": {
            "text/plain": [
              "<Figure size 640x480 with 2 Axes>"
            ],
            "image/png": "[encoded data removed]"
          },
          "metadata": {}
        }
      ]
    },
    {
      "cell_type": "code",
      "source": [
        "print(classification_report(y_test, y_pred, target_names=['Fake','Genuine']))\n"
      ],
      "metadata": {
        "colab": {
          "base_uri": "https://localhost:8080/"
        },
        "id": "By3Q1kJSPqWg",
        "outputId": "b92d1957-8e8d-4c47-bab4-9f98858f4191"
      },
      "execution_count": null,
      "outputs": [
        {
          "output_type": "stream",
          "name": "stdout",
          "text": [
            "              precision    recall  f1-score   support\n",
            "\n",
            "        Fake       0.88      0.99      0.93       270\n",
            "     Genuine       0.98      0.87      0.92       294\n",
            "\n",
            "    accuracy                           0.93       564\n",
            "   macro avg       0.93      0.93      0.93       564\n",
            "weighted avg       0.93      0.93      0.93       564\n",
            "\n"
          ]
        }
      ]
    },
    {
      "cell_type": "code",
      "source": [
        "plot_roc_curve(y_test, y_pred)\n"
      ],
      "metadata": {
        "colab": {
          "base_uri": "https://localhost:8080/",
          "height": 507
        },
        "id": "GyQ_aKO3QEH5",
        "outputId": "3074a944-e182-406e-c52d-1a5a4f435e7f"
      },
      "execution_count": null,
      "outputs": [
        {
          "output_type": "stream",
          "name": "stdout",
          "text": [
            "False Positive rate:  [0.         0.01481481 1.        ]\n",
            "True Positive rate:  [0.        0.8707483 1.       ]\n"
          ]
        },
        {
          "output_type": "display_data",
          "data": {
            "text/plain": [
              "<Figure size 640x480 with 1 Axes>"
            ],
            "image/png": "[encoded data removed]"
          },
          "metadata": {}
        }
      ]
    },
    {
      "cell_type": "code",
      "source": [
        "from google.colab import drive\n",
        "drive.mount('/content/drive')"
      ],
      "metadata": {
        "id": "fU-GrRzJRoyj"
      },
      "execution_count": null,
      "outputs": []
    }
  ]
}